{
 "cells": [
  {
   "cell_type": "markdown",
   "metadata": {},
   "source": [
    "<h1 style=\"text-align: center; background-color: #4d648d; font-family:Arial; color: white; padding: 13px; line-height: 1; border-radius:10px\">Projet : Simulation d'un Système de Réservation de Vols</h1>"
   ]
  },
  {
   "cell_type": "code",
   "execution_count": 1,
   "metadata": {},
   "outputs": [],
   "source": [
    "# Imports\n",
    "from Dataset import Dataset as DS\n",
    "from Tests import main"
   ]
  },
  {
   "cell_type": "markdown",
   "metadata": {},
   "source": [
    "<h4 style=\"text-align: center; color: white; padding: 13px; width: 25%\">Chargement des données</h4>"
   ]
  },
  {
   "cell_type": "code",
   "execution_count": 2,
   "metadata": {},
   "outputs": [],
   "source": [
    "ds = DS('data.json')"
   ]
  },
  {
   "cell_type": "code",
   "execution_count": 18,
   "metadata": {},
   "outputs": [],
   "source": [
    "ds.clear()\n",
    "ds.sauvegarder()"
   ]
  },
  {
   "cell_type": "code",
   "execution_count": 4,
   "metadata": {},
   "outputs": [],
   "source": [
    "utilisateurs, vols, reservations, villes = ds.create_objects()"
   ]
  },
  {
   "cell_type": "markdown",
   "metadata": {},
   "source": [
    "<h4 style=\"text-align: center; color: white; padding: 13px; width: 25%\">Création d'un nouvel utilisateur</h4>"
   ]
  },
  {
   "cell_type": "code",
   "execution_count": 5,
   "metadata": {},
   "outputs": [],
   "source": [
    "user = ds.create_user(\n",
    "    prenom=\"Capucine\",\n",
    "    nom=\"FEIST\",\n",
    "    age=21\n",
    ")"
   ]
  },
  {
   "cell_type": "markdown",
   "metadata": {},
   "source": [
    "<h4 style=\"text-align: center; color: white; padding: 13px; width: 25%\">Création d'un nouveau vol</h4>"
   ]
  },
  {
   "cell_type": "code",
   "execution_count": 6,
   "metadata": {},
   "outputs": [],
   "source": [
    "vol = ds.create_vol(\n",
    "    company='AF',\n",
    "    id=123,\n",
    "    sieges_total=150,\n",
    "    ville_depart='Paris',\n",
    "    ville_arrivee='New York'\n",
    ")"
   ]
  },
  {
   "cell_type": "markdown",
   "metadata": {},
   "source": [
    "<h4 style=\"text-align: center; color: white; padding: 13px; width: 25%\">L'utilisateur souhaite prendre le vol Paris - New York n°AF123</h4>"
   ]
  },
  {
   "cell_type": "code",
   "execution_count": 7,
   "metadata": {},
   "outputs": [
    {
     "name": "stdout",
     "output_type": "stream",
     "text": [
      "Vol n°AF123 : Paris -> New York. 150/150 places disponibles.\n"
     ]
    }
   ],
   "source": [
    "vol = ds.trouver_vol(\n",
    "    company='AF', \n",
    "    num_vol='123'\n",
    ")"
   ]
  },
  {
   "cell_type": "markdown",
   "metadata": {},
   "source": [
    "<h4 style=\"text-align: center; color: white; padding: 13px; width: 25%\">L'utilisateur réserve 2 places dans ce vol</h4>"
   ]
  },
  {
   "cell_type": "code",
   "execution_count": 8,
   "metadata": {},
   "outputs": [],
   "source": [
    "nb_places = 2\n",
    "places = [vol.reserver_siege() for _ in range(nb_places)]"
   ]
  },
  {
   "cell_type": "code",
   "execution_count": 9,
   "metadata": {},
   "outputs": [
    {
     "name": "stdout",
     "output_type": "stream",
     "text": [
      "Il reste : 148/150 sièges disponibles.\n"
     ]
    }
   ],
   "source": [
    "print(f'Il reste : {vol.sieges_dispo}/{vol.sieges_total} sièges disponibles.')"
   ]
  },
  {
   "cell_type": "code",
   "execution_count": 10,
   "metadata": {},
   "outputs": [],
   "source": [
    "for p in places:\n",
    "    res = ds.create_reservation(\n",
    "        id_utilisateur=user.id,\n",
    "        company=vol.company,\n",
    "        id_vol=vol.n_vol,\n",
    "        id_place=p.numero\n",
    "    )"
   ]
  },
  {
   "cell_type": "markdown",
   "metadata": {},
   "source": [
    "<h4 style=\"text-align: center; color: white; padding: 13px; width: 25%\">L'utilisateur constate son carnet de réservations</h4>"
   ]
  },
  {
   "cell_type": "code",
   "execution_count": 11,
   "metadata": {},
   "outputs": [
    {
     "name": "stdout",
     "output_type": "stream",
     "text": [
      "Réservations de l'utilisateurs Capucine FEIST :\n",
      "\n",
      "R5. vol n°AF123 : Paris -> New York prévu le : 10/28/2024\n",
      "R6. vol n°AF123 : Paris -> New York prévu le : 10/28/2024\n"
     ]
    }
   ],
   "source": [
    "ds.lister_reservations(user.id)"
   ]
  },
  {
   "cell_type": "markdown",
   "metadata": {},
   "source": [
    "<h4 style=\"text-align: center; color: white; padding: 13px; width: 25%\">L'utilisateur renonce à l'une de ses réservations</h4>"
   ]
  },
  {
   "cell_type": "code",
   "execution_count": 13,
   "metadata": {},
   "outputs": [],
   "source": [
    "reservation_id = 5\n",
    "ds.drop_reservation(reservation_id)"
   ]
  },
  {
   "cell_type": "code",
   "execution_count": 14,
   "metadata": {},
   "outputs": [
    {
     "name": "stdout",
     "output_type": "stream",
     "text": [
      "Il reste : 149/150 sièges disponibles.\n"
     ]
    }
   ],
   "source": [
    "print(f'Il reste : {vol.sieges_dispo}/{vol.sieges_total} sièges disponibles.')"
   ]
  },
  {
   "cell_type": "code",
   "execution_count": 15,
   "metadata": {},
   "outputs": [
    {
     "name": "stdout",
     "output_type": "stream",
     "text": [
      "Réservations de l'utilisateurs Capucine FEIST :\n",
      "\n",
      "R6. vol n°AF123 : Paris -> New York prévu le : 10/28/2024\n"
     ]
    }
   ],
   "source": [
    "ds.lister_reservations(user.id)"
   ]
  },
  {
   "cell_type": "markdown",
   "metadata": {},
   "source": [
    "<h4 style=\"text-align: center; color: white; padding: 13px; width: 25%\">Sauvegarde des données</h4>"
   ]
  },
  {
   "cell_type": "code",
   "execution_count": 16,
   "metadata": {},
   "outputs": [],
   "source": [
    "ds.sauvegarder()"
   ]
  },
  {
   "cell_type": "markdown",
   "metadata": {},
   "source": [
    "<h4 style=\"text-align: center; color: white; padding: 13px; width: 25%\">Tests unitaires</h4>"
   ]
  },
  {
   "cell_type": "code",
   "execution_count": 4,
   "metadata": {},
   "outputs": [
    {
     "name": "stderr",
     "output_type": "stream",
     "text": [
      "'pytest' n'est pas reconnu en tant que commande interne\n",
      "ou externe, un programme ex�cutable ou un fichier de commandes.\n"
     ]
    }
   ],
   "source": [
    "main(ds)"
   ]
  }
 ],
 "metadata": {
  "kernelspec": {
   "display_name": "Python 3",
   "language": "python",
   "name": "python3"
  },
  "language_info": {
   "codemirror_mode": {
    "name": "ipython",
    "version": 3
   },
   "file_extension": ".py",
   "mimetype": "text/x-python",
   "name": "python",
   "nbconvert_exporter": "python",
   "pygments_lexer": "ipython3",
   "version": "3.12.6"
  }
 },
 "nbformat": 4,
 "nbformat_minor": 2
}
